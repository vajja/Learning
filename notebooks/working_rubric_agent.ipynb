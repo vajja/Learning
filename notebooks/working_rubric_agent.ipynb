{
 "cells": [
  {
   "metadata": {},
   "cell_type": "markdown",
   "source": [
    "#### Loading libraries\n",
    "\n",
    "* Create .env\n",
    "* Update in .env, to load as enviroment variable\n",
    "    * OPENAI_API_KEY  : OpenAI\n",
    "    * TAVILY_API_KEY  : for search results\n",
    "    * LANGSMITH_API_KEY : For Langsmith debugging\n",
    "    * LANGCHAIN_PROJECT: For Langsmith project level debgging\n",
    "    * LANGCHAIN_TRACING_V2 : For tracking the via Langsmith\n",
    "* Please feel free to remove unused imports\n",
    "\n"
   ],
   "id": "e46b7dc7320a69cf"
  },
  {
   "metadata": {
    "collapsed": true,
    "ExecuteTime": {
     "end_time": "2025-10-19T09:15:56.193800Z",
     "start_time": "2025-10-19T09:15:53.804548Z"
    }
   },
   "cell_type": "code",
   "source": [
    "import os\n",
    "import json\n",
    "import warnings\n",
    "\n",
    "import ast\n",
    "import operator\n",
    "\n",
    "from typing import Any, Dict, List, TypedDict, Annotated\n",
    "\n",
    "from langchain_core.messages import HumanMessage, SystemMessage\n",
    "from langchain_community.tools.tavily_search import TavilySearchResults\n",
    "from langchain_tavily import TavilySearch\n",
    "\n",
    "from langgraph.graph import StateGraph, START, END\n",
    "\n",
    "from langgraph.graph.message import add_messages\n",
    "\n",
    "from pydantic import BaseModel, Field\n",
    "from IPython.display import Image, display\n",
    "\n",
    "\n",
    "from connections.chat_openai_conn import OpenAIConnection\n",
    "\n",
    "from dotenv import load_dotenv\n",
    "from langchain_openai import ChatOpenAI\n",
    "\n",
    "# Loads environment variables OpenAI key, Tavily key, langsmith, etc\n",
    "load_dotenv()"
   ],
   "id": "63f12e993a1fe659",
   "outputs": [
    {
     "data": {
      "text/plain": [
       "True"
      ]
     },
     "execution_count": 1,
     "metadata": {},
     "output_type": "execute_result"
    }
   ],
   "execution_count": 1
  },
  {
   "metadata": {},
   "cell_type": "code",
   "outputs": [],
   "execution_count": null,
   "source": "",
   "id": "5b7d568a4d50a4a9"
  },
  {
   "metadata": {},
   "cell_type": "markdown",
   "source": [
    "#### Connecing to Openai\n",
    "\n",
    "* from openai import OpenAI"
   ],
   "id": "9491da89cfe4faff"
  },
  {
   "metadata": {
    "ExecuteTime": {
     "end_time": "2025-10-19T09:16:29.349629Z",
     "start_time": "2025-10-19T09:16:29.164555Z"
    }
   },
   "cell_type": "code",
   "source": "OpenAIConnection()",
   "id": "972e35424a07bbf1",
   "outputs": [
    {
     "name": "stdout",
     "output_type": "stream",
     "text": [
      "Sucessfully connected to OpenAI\n",
      "Sucessfully connected to Chat OpenAI\n",
      "Sucessfully connected to OpenAI\n"
     ]
    }
   ],
   "execution_count": 2
  },
  {
   "metadata": {},
   "cell_type": "code",
   "outputs": [],
   "execution_count": null,
   "source": "",
   "id": "d944fe6fd3e4fea7"
  },
  {
   "metadata": {},
   "cell_type": "markdown",
   "source": [
    "#### Connecting langchain openai\n",
    " * from langchain_openai import ChatOpenAI\n",
    "  * I have written custom class please write you own logic\n"
   ],
   "id": "b4a68c955ffd069e"
  },
  {
   "metadata": {
    "ExecuteTime": {
     "end_time": "2025-10-19T09:16:33.476005Z",
     "start_time": "2025-10-19T09:16:33.473232Z"
    }
   },
   "cell_type": "code",
   "source": "llm_chat = OpenAIConnection.get_chat_openai()",
   "id": "4b1120b1eea62110",
   "outputs": [],
   "execution_count": 3
  },
  {
   "metadata": {},
   "cell_type": "code",
   "outputs": [],
   "execution_count": null,
   "source": "",
   "id": "da70f0e90a7dbaa8"
  },
  {
   "metadata": {},
   "cell_type": "markdown",
   "source": [
    " * from openai import OpenAI\n",
    "  * I have written custom class please write you own logic"
   ],
   "id": "aedcf5475a5dbd6e"
  },
  {
   "metadata": {
    "ExecuteTime": {
     "end_time": "2025-10-19T09:16:35.626710Z",
     "start_time": "2025-10-19T09:16:35.624018Z"
    }
   },
   "cell_type": "code",
   "source": "llm_client = OpenAIConnection.get_openai()",
   "id": "449ff2667f313537",
   "outputs": [],
   "execution_count": 4
  },
  {
   "metadata": {},
   "cell_type": "code",
   "outputs": [],
   "execution_count": null,
   "source": "",
   "id": "306e5e707444d18c"
  },
  {
   "metadata": {},
   "cell_type": "markdown",
   "source": "#### Optional if you want to use",
   "id": "c8b4bbfaee9f78a8"
  },
  {
   "metadata": {
    "ExecuteTime": {
     "end_time": "2025-10-19T09:16:38.750690Z",
     "start_time": "2025-10-19T09:16:38.747854Z"
    }
   },
   "cell_type": "code",
   "source": [
    "#### optional\n",
    "warnings.filterwarnings('ignore')\n",
    "search_tool = TavilySearchResults(\n",
    "    # top n website you want to access from the serach results\n",
    "    max_results=2,\n",
    "    search_depth=\"basic\",\n",
    "    include_answer=True\n",
    ")\n"
   ],
   "id": "c1dc0ffa92bf5f43",
   "outputs": [],
   "execution_count": 5
  },
  {
   "metadata": {},
   "cell_type": "code",
   "outputs": [],
   "execution_count": null,
   "source": "",
   "id": "2918b73437be7561"
  },
  {
   "metadata": {},
   "cell_type": "code",
   "outputs": [],
   "execution_count": null,
   "source": "",
   "id": "cc536b8e13985de7"
  },
  {
   "metadata": {},
   "cell_type": "markdown",
   "source": [
    "* Go in-detail at blog or website level\n",
    "* Get top 20 or 30 and consider only the critical websites like arxiv, medium, etc\n",
    "* Use selenium web browser access the url data\n",
    "    * Implement Rag if it's a search approach\n",
    "    * For this use case take summary of each page"
   ],
   "id": "6852194cd4e76a72"
  },
  {
   "metadata": {
    "ExecuteTime": {
     "end_time": "2025-10-19T09:16:43.905672Z",
     "start_time": "2025-10-19T09:16:41.252764Z"
    }
   },
   "cell_type": "code",
   "source": [
    "output = search_tool.invoke(\"What are the recent developments in Reinforcement Learning?\")\n",
    "output"
   ],
   "id": "430136929778730c",
   "outputs": [
    {
     "data": {
      "text/plain": [
       "[{'title': '[D][R]Recent developments in Reinforcement Learning - Reddit',\n",
       "  'url': 'https://www.reddit.com/r/MachineLearning/comments/1b81pkt/drrecent_developments_in_reinforcement_learning/',\n",
       "  'content': 'RLHF is a big jump for RL. And yes, it definitely is RL. There are two training stages, pretraining, and fine tuning for instruction following.',\n",
       "  'score': 0.7869018},\n",
       " {'title': 'Advancements and Challenges in Continual Reinforcement Learning',\n",
       "  'url': 'https://arxiv.org/html/2506.21899v1',\n",
       "  'content': 'Special emphasis is placed on recent advancements in continual reinforcement learning ... Recent advances in hierarchical reinforcement learning.',\n",
       "  'score': 0.66959417}]"
      ]
     },
     "execution_count": 6,
     "metadata": {},
     "output_type": "execute_result"
    }
   ],
   "execution_count": 6
  },
  {
   "metadata": {
    "ExecuteTime": {
     "end_time": "2025-10-19T09:08:26.276192Z",
     "start_time": "2025-10-19T09:08:26.274321Z"
    }
   },
   "cell_type": "code",
   "source": "",
   "id": "862ee97a958b5685",
   "outputs": [],
   "execution_count": null
  },
  {
   "metadata": {},
   "cell_type": "code",
   "outputs": [],
   "execution_count": null,
   "source": "",
   "id": "347a26f2926a742b"
  },
  {
   "metadata": {},
   "cell_type": "markdown",
   "source": "#### Sanity check",
   "id": "af157573369431b4"
  },
  {
   "metadata": {
    "ExecuteTime": {
     "end_time": "2025-10-19T09:18:22.424345Z",
     "start_time": "2025-10-19T09:18:21.060521Z"
    }
   },
   "cell_type": "code",
   "source": [
    "out = llm_chat.invoke(\"Who is the CEO of Google?\")\n",
    "out"
   ],
   "id": "7f9f2d1f827d5bda",
   "outputs": [
    {
     "data": {
      "text/plain": [
       "AIMessage(content='As of June 2024, the CEO of Google is Sundar Pichai.', additional_kwargs={'refusal': None}, response_metadata={'token_usage': {'completion_tokens': 18, 'prompt_tokens': 14, 'total_tokens': 32, 'completion_tokens_details': {'accepted_prediction_tokens': 0, 'audio_tokens': 0, 'reasoning_tokens': 0, 'rejected_prediction_tokens': 0}, 'prompt_tokens_details': {'audio_tokens': 0, 'cached_tokens': 0}}, 'model_name': 'gpt-4.1-mini-2025-04-14', 'system_fingerprint': 'fp_c064fdde7c', 'id': 'chatcmpl-CSJqPCE2KxJoCYtKUtNXdRtJNJjMh', 'service_tier': 'default', 'finish_reason': 'stop', 'logprobs': None}, id='run--bcbd5834-ee8c-4c45-abf6-46841e983332-0', usage_metadata={'input_tokens': 14, 'output_tokens': 18, 'total_tokens': 32, 'input_token_details': {'audio': 0, 'cache_read': 0}, 'output_token_details': {'audio': 0, 'reasoning': 0}})"
      ]
     },
     "execution_count": 7,
     "metadata": {},
     "output_type": "execute_result"
    }
   ],
   "execution_count": 7
  },
  {
   "metadata": {},
   "cell_type": "code",
   "outputs": [],
   "execution_count": null,
   "source": "",
   "id": "29d9fb16e48f00e2"
  },
  {
   "metadata": {
    "ExecuteTime": {
     "end_time": "2025-10-19T09:18:31.942670Z",
     "start_time": "2025-10-19T09:18:29.336002Z"
    }
   },
   "cell_type": "code",
   "source": [
    "out = llm_client.chat.completions.create(\n",
    "    model=\"gpt-4o-mini-search-preview-2025-03-11\",\n",
    "    messages=[\n",
    "        {\"role\": \"system\", \"content\": \"You are a helpful assistant.\"},\n",
    "        {\"role\": \"user\" ,\"content\":\"Who is the CEO of Google?\"}]\n",
    ")"
   ],
   "id": "e6a40c59852be951",
   "outputs": [],
   "execution_count": 8
  },
  {
   "metadata": {
    "ExecuteTime": {
     "end_time": "2025-10-19T09:18:42.075195Z",
     "start_time": "2025-10-19T09:18:42.071918Z"
    }
   },
   "cell_type": "code",
   "source": [
    "out\n",
    "#out.choices[0].message.content"
   ],
   "id": "3de60f9be958799e",
   "outputs": [
    {
     "data": {
      "text/plain": [
       "ChatCompletion(id='chatcmpl-9d04883b-747d-46d0-aa6f-7bcd9ca2c578', choices=[Choice(finish_reason='stop', index=0, logprobs=None, message=ChatCompletionMessage(content=\"Sundar Pichai is the Chief Executive Officer (CEO) of Google. He joined Google in 2004 and became CEO in 2015. In 2019, he also became the CEO of Alphabet Inc., Google's parent company. ([britannica.com](https://www.britannica.com/biography/Sundar-Pichai?utm_source=openai)) \", refusal=None, role='assistant', annotations=[Annotation(type='url_citation', url_citation=AnnotationURLCitation(end_index=274, start_index=186, title='Sundar Pichai | Biography, Google, & Facts | Britannica Money', url='https://www.britannica.com/biography/Sundar-Pichai?utm_source=openai'))], audio=None, function_call=None, tool_calls=None))], created=1760865509, model='gpt-4o-mini-search-preview-2025-03-11', object='chat.completion', service_tier=None, system_fingerprint='', usage=CompletionUsage(completion_tokens=79, prompt_tokens=13, total_tokens=92, completion_tokens_details=CompletionTokensDetails(accepted_prediction_tokens=0, audio_tokens=0, reasoning_tokens=0, rejected_prediction_tokens=0), prompt_tokens_details=PromptTokensDetails(audio_tokens=0, cached_tokens=0)))"
      ]
     },
     "execution_count": 9,
     "metadata": {},
     "output_type": "execute_result"
    }
   ],
   "execution_count": 9
  },
  {
   "metadata": {},
   "cell_type": "code",
   "outputs": [],
   "execution_count": null,
   "source": "",
   "id": "6117f03da44be7a0"
  },
  {
   "metadata": {},
   "cell_type": "code",
   "outputs": [],
   "execution_count": null,
   "source": "",
   "id": "509d3a6aeda74983"
  },
  {
   "metadata": {},
   "cell_type": "markdown",
   "source": "#### Defining state wrt Agents",
   "id": "c97cd21db460fe9a"
  },
  {
   "metadata": {
    "ExecuteTime": {
     "end_time": "2025-10-19T09:18:47.286193Z",
     "start_time": "2025-10-19T09:18:47.281638Z"
    }
   },
   "cell_type": "code",
   "source": [
    "# Please modify as per your requirements and use case\n",
    "class State(TypedDict):\n",
    "    query: str\n",
    "    response: str\n",
    "    actions: List[dict]\n",
    "    messages: Annotated[list, add_messages]\n",
    "    count: int = Field(default=0)\n",
    "    output: str"
   ],
   "id": "e3bd60c68123daee",
   "outputs": [],
   "execution_count": 10
  },
  {
   "metadata": {},
   "cell_type": "code",
   "outputs": [],
   "execution_count": null,
   "source": "",
   "id": "3f4ee0f04f03755"
  },
  {
   "metadata": {
    "ExecuteTime": {
     "end_time": "2025-10-19T09:19:19.201372Z",
     "start_time": "2025-10-19T09:19:19.197375Z"
    }
   },
   "cell_type": "code",
   "source": [
    "def supervisor(state: State):\n",
    "    \"\"\"\n",
    "    Decides what's the plan and action to be taken\n",
    "    :param state:\n",
    "    :return:\n",
    "    \"\"\"\n",
    "    try:\n",
    "        # If actions are not their for the first time run else directly return\n",
    "        if \"actions\" not in state or len(state.get(\"actions\",[]))==0:\n",
    "\n",
    "            ### Rubric Prompt\n",
    "            prompt = \"\"\"SYSTEM: You are the Supervisor agent (Agent A).\n",
    "            Your job:\n",
    "                1. Give a multi-step plan\n",
    "                2. Choose the single best agent to execute plan at each step.\n",
    "                3. Use the Agent Manifest and the Selection Rubric below.\n",
    "                4. Produce only JSON Array of objects one per step with the fields:\n",
    "                    - step_id (int)\n",
    "                    - step (int)\n",
    "                    - selected_agent (one of the available agents)\n",
    "                    - reason (one sentence)\n",
    "                    - confidence (0-1 numeric)\n",
    "\n",
    "            AGENT MANIFEST:\n",
    "            researcher | Retriever/Document search | Fast at finding the latest research or releases in that particular area\n",
    "            analyzer | Analysis of content | Does analysis of the various content available and gives high level insights of important content.\n",
    "            summarizer | Summary of the content | Give summary in layman terms such that anyone can understand at ease.\n",
    "\n",
    "            SELECTION RUBRIC (in order of priority):\n",
    "            1. If step asks to \"search\", \"find\", \"retrieve\" -> prefer researcher.\n",
    "            2. If step asks for \"analysis\", \"insights\" -> prefer analyzer.\n",
    "            3. If step asks for \"summary\", \"draft\" -> prefer summarizer.\n",
    "\n",
    "\n",
    "            Given following statement give the steps : {val}\n",
    "\n",
    "            Now evaluate each PLAN step and output the JSON array described above.\n",
    "            \"\"\"\n",
    "            out = llm_chat.invoke(prompt)\n",
    "            out = ast.literal_eval(out.content)\n",
    "            print(f\"Extracted supervisor output: {out}\")\n",
    "            state[\"actions\"] = out\n",
    "\n",
    "            # reversing so we can pop out the actions once complete\n",
    "            if state[\"actions\"]:\n",
    "                state[\"actions\"].reverse()\n",
    "        return state\n",
    "    except Exception as ex:\n",
    "        print(f\"Error in the master {type(ex).__name__}: {ex}\")"
   ],
   "id": "3cac831f71af51eb",
   "outputs": [],
   "execution_count": 11
  },
  {
   "metadata": {},
   "cell_type": "code",
   "outputs": [],
   "execution_count": null,
   "source": "",
   "id": "b7ad91de633d3bef"
  },
  {
   "metadata": {},
   "cell_type": "markdown",
   "source": "#### Sanity check at agent level",
   "id": "51aca4f2e7d2469d"
  },
  {
   "metadata": {
    "ExecuteTime": {
     "end_time": "2025-10-19T08:59:18.922020Z",
     "start_time": "2025-10-19T08:59:18.920501Z"
    }
   },
   "cell_type": "code",
   "source": [
    "# s = State(query=\"What are the most recent development in Reinforcement Learning?\",\n",
    "#           response=\"\",\n",
    "#           count=0,\n",
    "#           actions=[],\n",
    "#           decision=dict(),\n",
    "#           messages=[],\n",
    "#           output = \"\"\n",
    "#           )\n",
    "# o = supervisor(s)"
   ],
   "id": "47119c419d6d19ad",
   "outputs": [],
   "execution_count": 30
  },
  {
   "metadata": {},
   "cell_type": "code",
   "outputs": [],
   "execution_count": null,
   "source": "",
   "id": "513d79c55ee246b8"
  },
  {
   "metadata": {},
   "cell_type": "code",
   "outputs": [],
   "execution_count": null,
   "source": "",
   "id": "4d9b645dfaaf15e6"
  },
  {
   "metadata": {
    "ExecuteTime": {
     "end_time": "2025-10-19T09:21:41.343701Z",
     "start_time": "2025-10-19T09:21:41.337960Z"
    }
   },
   "cell_type": "code",
   "source": [
    "def researcher(state: State):\n",
    "    \"\"\"\n",
    "    Researcher is currently using pre-trained model\n",
    "    # Please enhance using custom web tools the search with Selenium web browser or\n",
    "    # Arxiv: which has papers published, code link: https://github.com/vajja/DeepLearningAI/blob/main/MCP/L3/L3.ipynb\n",
    "\n",
    "    :param state:\n",
    "    :return:\n",
    "    \"\"\"\n",
    "    try:\n",
    "        print(f\"Started researcher agent for query: {state['query']}\\n\")\n",
    "        if \"messages\" not in state:\n",
    "            state[\"messages\"] = []\n",
    "        messages = state[\"messages\"]\n",
    "\n",
    "        # Further enhance the prompt\n",
    "        prompt = f\"\"\"You are a helpful AI Research Assistant in the world.\n",
    "        You help thousands of people across various platforms.\n",
    "        Please can you share latest insights about the following query: {state['query']}\n",
    "        - top 5 best available resources and content\n",
    "        - content wrt each resource\"\"\"\n",
    "        response = llm_chat.invoke([{\"role\": \"system\", \"content\": prompt}] + messages)\n",
    "\n",
    "        state[\"messages\"].append(response.content)\n",
    "        state[\"response\"] = response.content\n",
    "        state[\"output\"] = response.content\n",
    "\n",
    "        print(f\"🔍 Researcher says: {response.content[:100]}\\n\\n\")\n",
    "        print(f\"Successfully completed researcher\")\n",
    "        return state\n",
    "    except Exception as ex:\n",
    "        print(f\"Error in the researcher {type(ex).__name__}: {ex}\")\n",
    "    return state"
   ],
   "id": "2a3e3d5e61e7a31c",
   "outputs": [],
   "execution_count": 16
  },
  {
   "metadata": {
    "ExecuteTime": {
     "end_time": "2025-10-19T08:59:25.507615Z",
     "start_time": "2025-10-19T08:59:25.506152Z"
    }
   },
   "cell_type": "code",
   "source": "",
   "id": "9bf017aeb55ab6d7",
   "outputs": [],
   "execution_count": null
  },
  {
   "metadata": {
    "ExecuteTime": {
     "end_time": "2025-10-19T09:21:57.205136Z",
     "start_time": "2025-10-19T09:21:57.201634Z"
    }
   },
   "cell_type": "code",
   "source": [
    "def analyzer(state: State):\n",
    "    \"\"\"\n",
    "    Analyzer analyzes the data from the researcher\n",
    "    :param state:\n",
    "    :return:\n",
    "    \"\"\"\n",
    "    try:\n",
    "        print(f\"Started analyzer agent for query: {state['query']}\")\n",
    "        messages = state[\"messages\"]\n",
    "\n",
    "        # Modify the prompt and try to further enhance\n",
    "        prompt = f\"\"\"You are AI text data analyzer.\n",
    "        Content: {state[\"output\"]}\n",
    "\n",
    "        For the above content analyze the data verify if it's authentic.\n",
    "        Try to further enhance the content further such that it makes sense.\"\"\"\n",
    "        response = llm_chat.invoke(prompt)\n",
    "        state[\"messages\"].append(response.content)\n",
    "        state[\"response\"] = response.content\n",
    "        state[\"output\"] = response.content\n",
    "        print(f\"🔍 Analyzer says: {response.content[:100]}\\n\")\n",
    "        print(\"Successfully analyzed the data!\")\n",
    "        return state\n",
    "    except Exception as ex:\n",
    "        print(f\"Error in the analyzer {type(ex).__name__}: {ex}\")\n",
    "    return state\n",
    "\n"
   ],
   "id": "a617528ec27cda1a",
   "outputs": [],
   "execution_count": 18
  },
  {
   "metadata": {
    "ExecuteTime": {
     "end_time": "2025-10-19T08:59:26.091897Z",
     "start_time": "2025-10-19T08:59:26.090267Z"
    }
   },
   "cell_type": "code",
   "source": "",
   "id": "ee898270b658c9b",
   "outputs": [],
   "execution_count": null
  },
  {
   "metadata": {
    "ExecuteTime": {
     "end_time": "2025-10-19T09:22:04.509811Z",
     "start_time": "2025-10-19T09:22:04.505519Z"
    }
   },
   "cell_type": "code",
   "source": [
    "def summarizer(state: State):\n",
    "    try:\n",
    "        print(f\"started summarizer {state['query']}\")\n",
    "        messages = state[\"messages\"]\n",
    "\n",
    "        # Further enhance the prompt\n",
    "        prompt = f\"\"\"You are AI text data summarizer.\n",
    "        Content: {messages[-1]}\n",
    "\n",
    "        For the above content try to summarize the output in less than 100-200 words such that anyone can understand at ease.\"\"\"\n",
    "        response = llm_chat.invoke(prompt)\n",
    "        state[\"messages\"].append(response.content)\n",
    "        state[\"response\"] = response.content\n",
    "        state[\"output\"] = state[\"response\"]\n",
    "        print(f\"🔍 summarizer says: {response.content}\\n\")\n",
    "        print(\"Successfully summarized the data!\")\n",
    "        return state\n",
    "    except Exception as ex:\n",
    "        print(f\"Error in the summarizer {type(ex).__name__}: {ex}\")\n",
    "    return state"
   ],
   "id": "5a1872c89bcf6fa",
   "outputs": [],
   "execution_count": 19
  },
  {
   "metadata": {
    "ExecuteTime": {
     "end_time": "2025-10-19T08:59:26.568847Z",
     "start_time": "2025-10-19T08:59:26.566986Z"
    }
   },
   "cell_type": "code",
   "source": "",
   "id": "260d3ebb30ac3895",
   "outputs": [],
   "execution_count": null
  },
  {
   "metadata": {
    "ExecuteTime": {
     "end_time": "2025-10-19T09:23:21.871880Z",
     "start_time": "2025-10-19T09:23:21.868030Z"
    }
   },
   "cell_type": "code",
   "source": [
    "def route_decision(state: State):\n",
    "    \"\"\"\n",
    "    based on the plan given by supervisor it would redirect\n",
    "    to appropriate agent\n",
    "    :param state:\n",
    "    :return:\n",
    "    \"\"\"\n",
    "    try:\n",
    "\n",
    "        print(f'actions availabe: {state[\"actions\"]}\\n')\n",
    "        if len(state[\"actions\"]) >0:\n",
    "            action = state[\"actions\"].pop()\n",
    "            o = action[\"selected_agent\"]\n",
    "            state[\"count\"] += 1\n",
    "            print(f\"Action to take: {o}\")\n",
    "            return o\n",
    "        return {\"decision\":\"__end__\"}\n",
    "    except Exception as ex:\n",
    "        print(f\"Error in the route decision {type(ex).__name__}: {ex}\")\n",
    "    return {\"decision\":\"__end__\"}"
   ],
   "id": "44453372e2c85396",
   "outputs": [],
   "execution_count": 20
  },
  {
   "metadata": {},
   "cell_type": "code",
   "outputs": [],
   "execution_count": null,
   "source": "",
   "id": "8c8405675092b6da"
  },
  {
   "metadata": {},
   "cell_type": "markdown",
   "source": "#### Creating graph",
   "id": "e4b898035785e75b"
  },
  {
   "metadata": {
    "ExecuteTime": {
     "end_time": "2025-10-19T09:23:24.259122Z",
     "start_time": "2025-10-19T09:23:24.256116Z"
    }
   },
   "cell_type": "code",
   "source": "builder = StateGraph(State)",
   "id": "b3704c21d3dd3db2",
   "outputs": [],
   "execution_count": 21
  },
  {
   "metadata": {},
   "cell_type": "code",
   "outputs": [],
   "execution_count": null,
   "source": "",
   "id": "3ba4d4a99396cce6"
  },
  {
   "metadata": {},
   "cell_type": "markdown",
   "source": "#### Creating nodes",
   "id": "870fa3592ae8f830"
  },
  {
   "metadata": {
    "ExecuteTime": {
     "end_time": "2025-10-19T09:23:26.000801Z",
     "start_time": "2025-10-19T09:23:25.996205Z"
    }
   },
   "cell_type": "code",
   "source": [
    "# Master Agent\n",
    "builder.add_node(\"supervisor\", supervisor)\n",
    "\n",
    "# Decision router\n",
    "builder.add_node(\"router\", route_decision)\n",
    "\n",
    "# other agent\n",
    "builder.add_node(\"researcher\", researcher)\n",
    "builder.add_node(\"analyzer\", analyzer)\n",
    "builder.add_node(\"summarizer\", summarizer)"
   ],
   "id": "efd58e40066e3e2f",
   "outputs": [
    {
     "data": {
      "text/plain": [
       "<langgraph.graph.state.StateGraph at 0x110f12270>"
      ]
     },
     "execution_count": 22,
     "metadata": {},
     "output_type": "execute_result"
    }
   ],
   "execution_count": 22
  },
  {
   "metadata": {},
   "cell_type": "code",
   "outputs": [],
   "execution_count": null,
   "source": "",
   "id": "6c0b4afd1c33be61"
  },
  {
   "metadata": {},
   "cell_type": "markdown",
   "source": "#### Entry point",
   "id": "6fd357d030a5b908"
  },
  {
   "metadata": {
    "ExecuteTime": {
     "end_time": "2025-10-19T09:23:30.806028Z",
     "start_time": "2025-10-19T09:23:30.802276Z"
    }
   },
   "cell_type": "code",
   "source": [
    "# Set entry point\n",
    "builder.add_edge(START, \"supervisor\")"
   ],
   "id": "dbf952b5a09204cc",
   "outputs": [
    {
     "data": {
      "text/plain": [
       "<langgraph.graph.state.StateGraph at 0x110f12270>"
      ]
     },
     "execution_count": 23,
     "metadata": {},
     "output_type": "execute_result"
    }
   ],
   "execution_count": 23
  },
  {
   "metadata": {},
   "cell_type": "code",
   "outputs": [],
   "execution_count": null,
   "source": "",
   "id": "54755f214f1742ea"
  },
  {
   "metadata": {},
   "cell_type": "markdown",
   "source": [
    "* Supervisor Plans\n",
    "* Router directs to the agent\n",
    "* Post execution of the agent the go bach to Supervisor\n",
    "* Please feel free to add <b>human in loop</b> to further <b>re-run or iterative</b> prompt with feeback"
   ],
   "id": "e2a1dc05e015573f"
  },
  {
   "metadata": {
    "ExecuteTime": {
     "end_time": "2025-10-19T09:23:34.100883Z",
     "start_time": "2025-10-19T09:23:34.096532Z"
    }
   },
   "cell_type": "code",
   "source": [
    "builder.add_conditional_edges(\"supervisor\", route_decision,\n",
    "                 {\n",
    "                     \"researcher\": \"researcher\",\n",
    "                     \"analyzer\": \"analyzer\",\n",
    "                     \"summarizer\": \"summarizer\",\n",
    "                     \"__end__\": END} )"
   ],
   "id": "f4ef75473cfd2ffc",
   "outputs": [
    {
     "data": {
      "text/plain": [
       "<langgraph.graph.state.StateGraph at 0x110f12270>"
      ]
     },
     "execution_count": 24,
     "metadata": {},
     "output_type": "execute_result"
    }
   ],
   "execution_count": 24
  },
  {
   "metadata": {},
   "cell_type": "code",
   "outputs": [],
   "execution_count": null,
   "source": "",
   "id": "310be349db254e1b"
  },
  {
   "metadata": {},
   "cell_type": "markdown",
   "source": "Post execution they would return to supervisor",
   "id": "302db4ddd4364f3a"
  },
  {
   "metadata": {
    "ExecuteTime": {
     "end_time": "2025-10-19T09:23:35.897572Z",
     "start_time": "2025-10-19T09:23:35.893879Z"
    }
   },
   "cell_type": "code",
   "source": [
    "builder.add_edge(\"researcher\", \"supervisor\")\n",
    "\n",
    "builder.add_edge(\"analyzer\", \"supervisor\")\n",
    "builder.add_edge(\"summarizer\", \"router\")"
   ],
   "id": "bb7729eefa9ce7c4",
   "outputs": [
    {
     "data": {
      "text/plain": [
       "<langgraph.graph.state.StateGraph at 0x110f12270>"
      ]
     },
     "execution_count": 25,
     "metadata": {},
     "output_type": "execute_result"
    }
   ],
   "execution_count": 25
  },
  {
   "metadata": {},
   "cell_type": "code",
   "outputs": [],
   "execution_count": null,
   "source": "",
   "id": "60aa4cea8b2e45a6"
  },
  {
   "metadata": {
    "ExecuteTime": {
     "end_time": "2025-10-19T09:23:37.730748Z",
     "start_time": "2025-10-19T09:23:37.720538Z"
    }
   },
   "cell_type": "code",
   "source": [
    "# Compile graph\n",
    "graph = builder.compile()"
   ],
   "id": "f7ff870bbfc3fdb2",
   "outputs": [],
   "execution_count": 26
  },
  {
   "metadata": {},
   "cell_type": "code",
   "outputs": [],
   "execution_count": null,
   "source": "",
   "id": "38472b07bc609314"
  },
  {
   "metadata": {},
   "cell_type": "markdown",
   "source": "#### Visualize the graph",
   "id": "fff5599dcccd8b1c"
  },
  {
   "metadata": {
    "ExecuteTime": {
     "end_time": "2025-10-19T09:23:40.479990Z",
     "start_time": "2025-10-19T09:23:39.464155Z"
    }
   },
   "cell_type": "code",
   "source": "display(Image(graph.get_graph().draw_mermaid_png()))",
   "id": "f92744a323a83e36",
   "outputs": [
    {
     "data": {
      "image/png": "[encoded data removed]",
      "text/plain": [
       "<IPython.core.display.Image object>"
      ]
     },
     "metadata": {},
     "output_type": "display_data",
     "jetTransient": {
      "display_id": null
     }
    }
   ],
   "execution_count": 27
  },
  {
   "metadata": {},
   "cell_type": "code",
   "outputs": [],
   "execution_count": null,
   "source": "",
   "id": "7498e8fbc7ab70d9"
  },
  {
   "metadata": {
    "ExecuteTime": {
     "end_time": "2025-10-19T09:23:43.524547Z",
     "start_time": "2025-10-19T09:23:43.522022Z"
    }
   },
   "cell_type": "code",
   "source": "query = \"What are the most recent development in Reinforcement Learning?\"",
   "id": "88fd64096bf7dfee",
   "outputs": [],
   "execution_count": 28
  },
  {
   "metadata": {
    "ExecuteTime": {
     "end_time": "2025-10-19T09:23:44.104013Z",
     "start_time": "2025-10-19T09:23:44.101136Z"
    }
   },
   "cell_type": "code",
   "source": [
    "inp_state = State(query=query,\n",
    "                  response=\"\",\n",
    "                  count=0,\n",
    "                  actions=[],\n",
    "                  decision=dict(),\n",
    "                  messages=[],\n",
    "                  output = \"\")"
   ],
   "id": "53a5b01191fd1371",
   "outputs": [],
   "execution_count": 29
  },
  {
   "metadata": {},
   "cell_type": "code",
   "outputs": [],
   "execution_count": null,
   "source": "",
   "id": "fbe98464790685aa"
  },
  {
   "metadata": {
    "ExecuteTime": {
     "end_time": "2025-10-19T09:24:27.478853Z",
     "start_time": "2025-10-19T09:23:46.835890Z"
    }
   },
   "cell_type": "code",
   "source": "output_state = graph.invoke(inp_state)",
   "id": "377ff572af17e303",
   "outputs": [
    {
     "name": "stdout",
     "output_type": "stream",
     "text": [
      "Extracted supervisor output: [{'step_id': 1, 'step': 1, 'selected_agent': 'researcher', 'reason': \"The first step involves finding or retrieving relevant information, which fits the researcher's expertise.\", 'confidence': 1}, {'step_id': 2, 'step': 2, 'selected_agent': 'analyzer', 'reason': 'The second step requires analyzing the retrieved content to extract high-level insights, best suited for the analyzer.', 'confidence': 1}, {'step_id': 3, 'step': 3, 'selected_agent': 'summarizer', 'reason': \"The final step is to summarize the analyzed content in layman terms, which is the summarizer's specialty.\", 'confidence': 1}]\n",
      "actions availabe: [{'step_id': 3, 'step': 3, 'selected_agent': 'summarizer', 'reason': \"The final step is to summarize the analyzed content in layman terms, which is the summarizer's specialty.\", 'confidence': 1}, {'step_id': 2, 'step': 2, 'selected_agent': 'analyzer', 'reason': 'The second step requires analyzing the retrieved content to extract high-level insights, best suited for the analyzer.', 'confidence': 1}, {'step_id': 1, 'step': 1, 'selected_agent': 'researcher', 'reason': \"The first step involves finding or retrieving relevant information, which fits the researcher's expertise.\", 'confidence': 1}]\n",
      "\n",
      "Action to take: researcher\n",
      "Started researcher agent for query: What are the most recent development in Reinforcement Learning?\n",
      "\n",
      "🔍 Researcher says: Certainly! Here are some of the most recent developments in Reinforcement Learning (RL) as of mid-20\n",
      "\n",
      "\n",
      "Successfully completed researcher\n",
      "actions availabe: [{'step_id': 3, 'step': 3, 'selected_agent': 'summarizer', 'reason': \"The final step is to summarize the analyzed content in layman terms, which is the summarizer's specialty.\", 'confidence': 1}, {'step_id': 2, 'step': 2, 'selected_agent': 'analyzer', 'reason': 'The second step requires analyzing the retrieved content to extract high-level insights, best suited for the analyzer.', 'confidence': 1}]\n",
      "\n",
      "Action to take: analyzer\n",
      "Started analyzer agent for query: What are the most recent development in Reinforcement Learning?\n",
      "🔍 Analyzer says: ### Authenticity Verification and Content Analysis\n",
      "\n",
      "The provided content on recent developments in R\n",
      "\n",
      "Successfully analyzed the data!\n",
      "actions availabe: [{'step_id': 3, 'step': 3, 'selected_agent': 'summarizer', 'reason': \"The final step is to summarize the analyzed content in layman terms, which is the summarizer's specialty.\", 'confidence': 1}]\n",
      "\n",
      "Action to take: summarizer\n",
      "started summarizer What are the most recent development in Reinforcement Learning?\n",
      "🔍 summarizer says: The summary highlights key recent advances in Reinforcement Learning (RL) as of mid-2024. Major trends include integrating large pretrained foundation models with RL agents to boost learning efficiency and generalization. Offline RL, which learns from fixed datasets without new interactions, has progressed with algorithms like Conservative Q-Learning and Implicit Q-Learning addressing safety and reliability. Multi-Agent RL continues to evolve, focusing on better coordination and communication using methods such as MADDPG, QMIX, and transformers. Exploration techniques improve how agents balance trying new actions versus exploiting known rewards, using curiosity and uncertainty measures. Practical applications in robotics, healthcare, finance, and energy emphasize safety, interpretability, and real-world deployment. Recommended resources include tutorials, surveys, blogs, journal reviews, and video series from top research labs, providing comprehensive and up-to-date insights into these developments.\n",
      "\n",
      "Successfully summarized the data!\n",
      "actions availabe: []\n",
      "\n"
     ]
    }
   ],
   "execution_count": 30
  },
  {
   "metadata": {},
   "cell_type": "code",
   "outputs": [],
   "execution_count": null,
   "source": "",
   "id": "96598d357a350773"
  },
  {
   "metadata": {},
   "cell_type": "markdown",
   "source": "It has messages of each state",
   "id": "d5b6d5c1a583a061"
  },
  {
   "metadata": {
    "ExecuteTime": {
     "end_time": "2025-10-19T09:25:18.331228Z",
     "start_time": "2025-10-19T09:25:18.329114Z"
    }
   },
   "cell_type": "code",
   "source": "#output_state[\"messages\"]",
   "id": "edb482d133c0cd52",
   "outputs": [],
   "execution_count": 34
  },
  {
   "metadata": {},
   "cell_type": "code",
   "outputs": [],
   "execution_count": null,
   "source": "",
   "id": "592201c2603dff4b"
  }
 ],
 "metadata": {
  "kernelspec": {
   "display_name": "Python 3",
   "language": "python",
   "name": "python3"
  },
  "language_info": {
   "codemirror_mode": {
    "name": "ipython",
    "version": 2
   },
   "file_extension": ".py",
   "mimetype": "text/x-python",
   "name": "python",
   "nbconvert_exporter": "python",
   "pygments_lexer": "ipython2",
   "version": "2.7.6"
  }
 },
 "nbformat": 4,
 "nbformat_minor": 5
}
